{
 "cells": [
  {
   "cell_type": "markdown",
   "metadata": {
    "tags": []
   },
   "source": [
    "# Lab | Data Structures "
   ]
  },
  {
   "cell_type": "markdown",
   "metadata": {},
   "source": [
    "## Exercise: Managing Customer Orders\n",
    "\n",
    "As part of a business venture, you are starting an online store that sells various products. To ensure smooth operations, you need to develop a program that manages customer orders and inventory.\n",
    "\n",
    "Follow the steps below to complete the exercise:\n",
    "\n",
    "1. Define a list called `products` that contains the following items: \"t-shirt\", \"mug\", \"hat\", \"book\", \"keychain\".\n",
    "\n",
    "2. Create an empty dictionary called `inventory`.\n",
    "\n",
    "3. Ask the user to input the quantity of each product available in the inventory. Use the product names from the `products` list as keys in the `inventory` dictionary and assign the respective quantities as values.\n",
    "\n",
    "4. Create an empty set called `customer_orders`.\n",
    "\n",
    "5. Ask the user to input the name of three products that a customer wants to order (from those in the products list, meaning three products out of \"t-shirt\", \"mug\", \"hat\", \"book\" or \"keychain\". Add each product name to the `customer_orders` set.\n",
    "\n",
    "6. Print the products in the `customer_orders` set.\n",
    "\n",
    "7. Calculate the following order statistics:\n",
    "   - Total Products Ordered: The total number of products in the `customer_orders` set.\n",
    "   - Percentage of Products Ordered: The percentage of products ordered compared to the total available products.\n",
    "   \n",
    "   Store these statistics in a tuple called `order_status`.\n",
    "\n",
    "8. Print the order statistics using the following format:\n",
    "   ```\n",
    "   Order Statistics:\n",
    "   Total Products Ordered: <total_products_ordered>\n",
    "   Percentage of Products Ordered: <percentage_ordered>% \n",
    "   ```\n",
    "\n",
    "9. Update the inventory by subtracting 1 from the quantity of each product. Modify the `inventory` dictionary accordingly.\n",
    "\n",
    "10. Print the updated inventory, displaying the quantity of each product on separate lines.\n",
    "\n",
    "Solve the exercise by implementing the steps using the Python concepts of lists, dictionaries, sets, and basic input/output operations. "
   ]
  },
  {
   "cell_type": "code",
   "execution_count": 32,
   "metadata": {},
   "outputs": [
    {
     "name": "stdin",
     "output_type": "stream",
     "text": [
      "Please enter the quantity you have bought for t-shirt:  34\n",
      "Please enter the quantity you have bought for mug:  56\n",
      "Please enter the quantity you have bought for hat:  76\n",
      "Please enter the quantity you have bought for book:  35\n",
      "Please enter the quantity you have bought for keychain:  67\n"
     ]
    },
    {
     "name": "stdout",
     "output_type": "stream",
     "text": [
      "{'t-shirt': 34, 'mug': 56, 'hat': 76, 'book': 35, 'keychain': 67}\n"
     ]
    }
   ],
   "source": [
    "#Define a list called products that contains the following items: \"t-shirt\", \"mug\", \"hat\", \"book\", \"keychain\".\n",
    "products = [\"t-shirt\", \"mug\", \"hat\", \"book\", \"keychain\"]\n",
    "#Create an empty dictionary called inventory.\n",
    "inventory = {}\n",
    "#Ask the user to input the quantity of each product available in the inventory. Use the product names from the products list as keys in the inventory dictionary and assign the respective quantities as values.\n",
    "def add_quantity_to_dict():\n",
    "    for item in products:\n",
    "        quantity = int(input(f'Please enter the quantity you have bought for {item}: '))\n",
    "        inventory[item] = quantity\n",
    "\n",
    "add_quantity_to_dict()\n",
    "print(inventory)\n",
    "\n",
    "\n",
    "# Ask the user to input the name of three products that a customer wants to order (from those in the products list, meaning three products out of \"t-shirt\", \"mug\", \"hat\", \"book\" or \"keychain\". Add each product name to the customer_orders set.\n"
   ]
  },
  {
   "cell_type": "code",
   "execution_count": 40,
   "metadata": {},
   "outputs": [
    {
     "name": "stdin",
     "output_type": "stream",
     "text": [
      "We have t-shirt, mug, hat, book, keychain. Please enter three products the customer wants to order, separated by commas:  mug, hat\n"
     ]
    },
    {
     "name": "stdout",
     "output_type": "stream",
     "text": [
      "Products in customer orders: {'mug', 'hat'}\n"
     ]
    }
   ],
   "source": [
    "# Create an empty set called customer_orders.\n",
    "customer_orders = set()\n",
    "\n",
    "# Ask the user to input the name of three products that a customer wants to order.\n",
    "order_list = input(\"We have t-shirt, mug, hat, book, keychain. Please enter three products the customer wants to order, separated by commas: \").split(',')\n",
    "\n",
    "def customer_order():\n",
    "    for order in order_list:\n",
    "        order = order.strip()  # Remove any leading/trailing whitespace\n",
    "        if order in products:\n",
    "            customer_orders.add(order)\n",
    "        else:\n",
    "            print(f\"'{order}' is not a valid product. Please only enter: t-shirt, mug, hat, book, keychain.\")\n",
    "\n",
    "customer_order()\n",
    "print(\"Products in customer orders:\", customer_orders)"
   ]
  },
  {
   "cell_type": "code",
   "execution_count": 22,
   "metadata": {},
   "outputs": [],
   "source": [
    "products = [\"t-shirt\", \"mug\", \"hat\", \"book\", \"keychain\"]\n",
    "count_customer_order = len(customer_orders)\n",
    "count_products = len(products)\n",
    "Percentage_of_Products_Ordered = (count_customer_order/count_products) *100\n",
    "order_status = (count_customer_order,Percentage_of_Products_Ordered)\n"
   ]
  },
  {
   "cell_type": "code",
   "execution_count": 26,
   "metadata": {},
   "outputs": [
    {
     "name": "stdout",
     "output_type": "stream",
     "text": [
      "(1, 20.0)\n",
      "Total Products Ordered:\" 1\n",
      "Percentage of Products Ordered:\" 20.0\n"
     ]
    }
   ],
   "source": [
    "print(order_status)\n",
    "print(f'Total Products Ordered:\" {order_status[0]}')\n",
    "print(f'Percentage of Products Ordered:\" {order_status[1]}')"
   ]
  },
  {
   "cell_type": "code",
   "execution_count": 38,
   "metadata": {},
   "outputs": [
    {
     "name": "stdout",
     "output_type": "stream",
     "text": [
      "mug stock updated. Remaining stock: 55\n",
      "{'t-shirt': 34, 'mug': 55, 'hat': 76, 'book': 35, 'keychain': 67}\n"
     ]
    }
   ],
   "source": [
    "def update_inventory(customer_orders, inventory):\n",
    "    for order in customer_orders:\n",
    "        if order in inventory:\n",
    "            if inventory[order] > 0:\n",
    "                inventory[order] -= 1\n",
    "                print(f\"{order} stock updated. Remaining stock: {inventory[order]}\")\n",
    "            else:\n",
    "                print(f\"{order} is out of stock.\")\n",
    "        else:\n",
    "            print(f\"{order} is not in the inventory.\")\n",
    "    \n",
    "    return inventory\n",
    "inventory = update_inventory(customer_orders, inventory)\n",
    "print(inventory)\n",
    "\n"
   ]
  },
  {
   "cell_type": "code",
   "execution_count": null,
   "metadata": {},
   "outputs": [],
   "source": []
  }
 ],
 "metadata": {
  "kernelspec": {
   "display_name": "Python 3 (ipykernel)",
   "language": "python",
   "name": "python3"
  },
  "language_info": {
   "codemirror_mode": {
    "name": "ipython",
    "version": 3
   },
   "file_extension": ".py",
   "mimetype": "text/x-python",
   "name": "python",
   "nbconvert_exporter": "python",
   "pygments_lexer": "ipython3",
   "version": "3.11.7"
  }
 },
 "nbformat": 4,
 "nbformat_minor": 4
}
